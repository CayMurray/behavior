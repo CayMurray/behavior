{
 "cells": [
  {
   "cell_type": "code",
   "execution_count": null,
   "metadata": {},
   "outputs": [],
   "source": [
    "## IMPORT MODULES ##\n",
    "\n",
    "import numpy as np\n",
    "import pandas as pd\n",
    "import seaborn as sns\n",
    "import matplotlib.pyplot as plt\n",
    "from sklearn.preprocessing import StandardScaler\n",
    "from sklearn.decomposition import PCA\n",
    "from sklearn.model_selection import train_test_split\n",
    "from sklearn.ensemble import RandomForestClassifier\n",
    "from sklearn.metrics import classification_report,confusion_matrix"
   ]
  },
  {
   "cell_type": "code",
   "execution_count": null,
   "metadata": {},
   "outputs": [],
   "source": [
    "## LOAD CSV AS DATAFRAME ##\n",
    "\n",
    "df = pd.read_csv('../data/iris.csv')\n",
    "df.head()"
   ]
  },
  {
   "cell_type": "code",
   "execution_count": null,
   "metadata": {},
   "outputs": [],
   "source": [
    "## GET SPECIFIC COLUMNS ##\n",
    "\n",
    "df_petal = df['petallength']\n",
    "df_petal"
   ]
  },
  {
   "cell_type": "code",
   "execution_count": null,
   "metadata": {},
   "outputs": [],
   "source": [
    "## FILTER COLUMNS BASED ON CONDITIONS ##\n",
    "\n",
    "df_filtered = df[(df['petallength'] > 3) & (df['sepallength'] > 1)]\n",
    "df_filtered"
   ]
  },
  {
   "cell_type": "code",
   "execution_count": null,
   "metadata": {},
   "outputs": [],
   "source": [
    "## UNIQUE CLASSES ##\n",
    "\n",
    "unique_classes = set(df['class'])\n",
    "print(unique_classes)"
   ]
  },
  {
   "cell_type": "code",
   "execution_count": null,
   "metadata": {},
   "outputs": [],
   "source": [
    "## PCA ##\n",
    "\n",
    "X = df.drop(['class'],axis=1)\n",
    "Y = df['class']\n",
    "\n",
    "z_scaler = StandardScaler()\n",
    "pca = PCA(n_components=2)\n",
    "\n",
    "scaled_data = z_scaler.fit_transform(X)\n",
    "iris_pcs = pca.fit_transform(scaled_data)\n",
    "df_master = pd.DataFrame(data=iris_pcs,columns=['PC1','PC2'])\n",
    "df_master['class'] = Y\n",
    "\n",
    "sns.scatterplot(data=df_master,x='PC1',y='PC2',hue='class',palette='tab10')\n"
   ]
  },
  {
   "cell_type": "code",
   "execution_count": null,
   "metadata": {},
   "outputs": [],
   "source": [
    "## MACHINE LEARNING ##\n",
    "\n",
    "x_train,x_test,y_train,y_test = train_test_split(X,Y,test_size=0.3,random_state=42)\n",
    "rf = RandomForestClassifier(n_estimators=100,random_state=42)\n",
    "rf.fit(x_train,y_train)\n",
    "\n",
    "predictions = rf.predict(x_test)\n",
    "print(classification_report(y_test,predictions))\n",
    "\n",
    "cm = confusion_matrix(y_test,predictions)\n",
    "sns.heatmap(cm, fmt='g',annot=True, cmap='Blues', xticklabels=unique_classes, yticklabels=unique_classes)\n",
    "plt.xlabel('Predicted',labelpad=20)\n",
    "plt.ylabel('True',labelpad=20)\n",
    "plt.show()"
   ]
  }
 ],
 "metadata": {
  "kernelspec": {
   "display_name": "pytorch",
   "language": "python",
   "name": "python3"
  },
  "language_info": {
   "codemirror_mode": {
    "name": "ipython",
    "version": 3
   },
   "file_extension": ".py",
   "mimetype": "text/x-python",
   "name": "python",
   "nbconvert_exporter": "python",
   "pygments_lexer": "ipython3",
   "version": "3.8.18"
  }
 },
 "nbformat": 4,
 "nbformat_minor": 2
}
